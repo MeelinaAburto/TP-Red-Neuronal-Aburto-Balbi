{
  "nbformat": 4,
  "nbformat_minor": 0,
  "metadata": {
    "colab": {
      "provenance": []
    },
    "kernelspec": {
      "name": "python3",
      "display_name": "Python 3"
    },
    "language_info": {
      "name": "python"
    }
  },
  "cells": [
    {
      "cell_type": "markdown",
      "source": [
        "#*Red sckit learning*\n",
        "\n"
      ],
      "metadata": {
        "id": "N2op05rwf-Lk"
      }
    },
    {
      "cell_type": "code",
      "source": [
        "import pandas as pd\n",
        "import numpy as np\n",
        "# cargar datos\n",
        "from sklearn.model_selection import train_test_split\n",
        "from sklearn.neural_network import MLPClassifier\n",
        "\n",
        "df = pd.read_csv(\"student_habits_performanceNormalizado.csv\", delimiter=\",\")\n",
        "\n",
        "np.random.seed(10)\n",
        "\n",
        "# Extraer variables de entrada (todas las filas, todas las columnas menos la última)\n",
        "# Nota que deberíamos hacer algún escalado lineal aquí\n",
        "X = (df.values[:, :-1])\n",
        "\n",
        "# Extraer columna de salida (todas las filas, última columna)\n",
        "Y = df.values[:, -1]\n",
        "\n",
        "# Separar los datos de entrenamiento y prueba\n",
        "X_train, X_test, Y_train, Y_test = train_test_split(X, Y, test_size=1/3)\n",
        "\n",
        "nn = MLPClassifier(solver='sgd',\n",
        "                   hidden_layer_sizes=(6,),   # 6 neuronas en la capa oculta\n",
        "                   activation='relu',\n",
        "                   max_iter=100_000,\n",
        "                   learning_rate_init=.05)\n",
        "\n",
        "#Entrenar la red neuronal con los datos de entrenamiento\n",
        "nn.fit(X_train, Y_train)\n",
        "\n",
        "#Mostrar los pesos aprendidos entre capas (matrices)\n",
        "print(\"Pesos:\")\n",
        "print(nn.coefs_)\n",
        "\n",
        "#Mostrar los sesgos aprendidos en cada neurona\n",
        "print(\"Sesgos:\")\n",
        "print(nn.intercepts_)\n",
        "\n",
        "#Mostrar los accuracy\n",
        "print(\"Puntaje del conjunto de entrenamiento: %f\" % nn.score(X_train, Y_train))\n",
        "print(\"Puntaje del conjunto de prueba: %f\" % nn.score(X_test, Y_test))"
      ],
      "metadata": {
        "id": "LmEI0yt3jDgB",
        "colab": {
          "base_uri": "https://localhost:8080/"
        },
        "outputId": "12284e85-fab2-4b83-8c74-6eacd231ca70"
      },
      "execution_count": null,
      "outputs": [
        {
          "output_type": "stream",
          "name": "stdout",
          "text": [
            "Pesos:\n",
            "[array([[ 0.43289045,  0.13165057,  0.27279803, -0.63714469,  0.06819014,\n",
            "         0.73230692],\n",
            "       [ 0.03366198,  0.45107682, -0.37114794, -0.14504186,  0.04793239,\n",
            "         0.19360875],\n",
            "       [ 2.60691911,  0.32485309,  0.05281739, -0.31620344,  2.74221425,\n",
            "        -2.45581237],\n",
            "       [-0.9115907 ,  0.12686501,  0.34662432, -0.07484433, -0.18672077,\n",
            "         1.12860809],\n",
            "       [-0.00962111,  0.5822131 ,  0.29173263,  0.41540416, -0.59563128,\n",
            "         0.74816019],\n",
            "       [-0.21964517, -0.45498094,  0.1388858 ,  0.40374568, -0.07463862,\n",
            "        -0.19986132],\n",
            "       [ 0.08265523, -0.4150462 ,  0.13432568,  0.4019338 ,  0.54951886,\n",
            "        -0.62096113],\n",
            "       [ 0.87589124, -0.51530672,  0.14866348, -0.5930298 ,  1.14326796,\n",
            "        -0.31338617],\n",
            "       [-0.11114902, -0.02837692, -0.17981981, -0.41248928,  0.48362213,\n",
            "        -0.42464128],\n",
            "       [ 0.75484816, -0.36074291, -0.73909188, -0.10918762,  0.37255003,\n",
            "        -0.83622165]]), array([[ 2.84139707],\n",
            "       [ 0.5835131 ],\n",
            "       [-0.63428682],\n",
            "       [ 0.32700328],\n",
            "       [ 3.26334143],\n",
            "       [-3.63190348]])]\n",
            "Sesgos:\n",
            "[array([-1.1566391 , -0.47599528, -0.02646804,  0.12803023, -1.65360574,\n",
            "        2.36288205]), array([-1.02111712])]\n",
            "Puntaje del conjunto de entrenamiento: 0.911411\n",
            "Puntaje del conjunto de prueba: 0.913174\n"
          ]
        }
      ]
    }
  ]
}